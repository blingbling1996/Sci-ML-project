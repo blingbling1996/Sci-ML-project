{
  "cells": [
    {
      "cell_type": "markdown",
      "metadata": {
        "id": "view-in-github",
        "colab_type": "text"
      },
      "source": [
        "<a href=\"https://colab.research.google.com/github/blingbling1996/Sci-ML-project/blob/main/Advection_Periodic_CINN_Share.ipynb\" target=\"_parent\"><img src=\"https://colab.research.google.com/assets/colab-badge.svg\" alt=\"Open In Colab\"/></a>"
      ]
    },
    {
      "cell_type": "markdown",
      "metadata": {
        "id": "xv4xNBJ9OFrr"
      },
      "source": [
        "# Characteristics-Informed Neural Network Solution of the Advection Problem\n",
        " \n",
        "This code is distributed under the GNU LGPL license.<br>\n",
        "Last Modified: Jan 24 2023<br>\n",
        "\n",
        "Author: Ulisses Braga-Neto <br>\n",
        "Professor of Electrical and Computer Engineering<br>\n",
        "Director of the TAMIDS Scientific Machine Learning Lab<br>\n",
        "Texas A&M University<br>\n",
        "https://sciml.tamids.tamu.edu/<br>\n",
        "https://braganeto.engr.tamu.edu/<br>\n",
        "\n",
        "This code demonstrates the application of characteristics-informed neural networks (CINN) to the the classical univariate advection of a tracer in a moving fluid, with a sinusoidal initial condition. \n",
        "\n",
        "The evolution of the tracer concentration $q(x,t)$ in a pipe, for $0 \\leq x \\leq L$ and $t>0$, is governed by the univariate linear advection hyperbolic PDE [1]:\n",
        "  \\begin{aligned}\n",
        "  q_t + vq_x = 0\n",
        "  \\end{aligned}\n",
        "where $v$ is the constant velocity. The initial condition is  \n",
        "\\begin{equation}\n",
        "  q(x,0) = \\sin(x)\n",
        "\\end{equation}\n",
        "This simple problem has as solution:\n",
        "\\begin{aligned}\n",
        "     q(x,t) = \\sin(x-vt) \n",
        "  \\end{aligned} \n",
        "In other words, the initial sinusoisal profile is simply advected to the left with speed $v$.\n",
        "\n",
        "In this demo, we assume $L = 2\\pi$ and $v = 1$. \n",
        "\n",
        "References:\n",
        "\n",
        "[1] Randall J. LeVeque, Finite Volume Methods for Hyperbolic Problems. Cambridge University Press, 2002. \n"
      ]
    },
    {
      "cell_type": "code",
      "execution_count": null,
      "metadata": {
        "id": "MJ8uTMEGyL1Y"
      },
      "outputs": [],
      "source": [
        "\"\"\"\"\n",
        "PINN solution using direct implementation in Tensorflow (Adam training only)\n",
        "\"\"\"\n",
        "\n",
        "import numpy as np\n",
        "import tensorflow as tf\n",
        "import time\n",
        "import math\n",
        "from tensorflow import keras\n",
        "from tensorflow.keras.models import Sequential\n",
        "from tensorflow.keras.layers import Dense, Input\n",
        "from tensorflow.keras import layers, activations\n",
        "from scipy.interpolate import griddata\n",
        "import matplotlib.pyplot as plt\n",
        "import matplotlib.gridspec as gridspec\n",
        "\n",
        "!pip -q install pyDOE\n",
        "from pyDOE import lhs"
      ]
    },
    {
      "cell_type": "code",
      "execution_count": null,
      "metadata": {
        "id": "Ao8kHH_bOFr2"
      },
      "outputs": [],
      "source": [
        "\"\"\"\n",
        "Problem Definition and Analytical Solution\n",
        "\"\"\"\n",
        "\n",
        "# parameters of the simulation\n",
        "L =  2*np.pi # channel length\n",
        "T = 1.0 # simulation total time\n",
        "v = 30.0 # advection speed\n",
        "\n",
        "# define grid for solution\n",
        "utn = 300\n",
        "uxn = 300\n",
        "xlo = 0\n",
        "xhi = L\n",
        "ux = np.linspace(xlo,xhi,uxn)\n",
        "tlo = 0.0\n",
        "thi = T\n",
        "ut = np.linspace (tlo,thi,utn)\n",
        "Xm,Tm = np.meshgrid(ux,ut)\n",
        "XT_flat = np.hstack((Xm.flatten()[:,None],Tm.flatten()[:,None]))\n",
        "\n",
        "# analytical solution \n",
        "u = np.zeros([uxn,utn])\n",
        "for utj in range(utn):\n",
        "  for uxj in range(uxn):\n",
        "    u[uxj,utj] = np.sin(uxj*L/uxn-v*utj*T/utn) \n",
        "u_flat = u.T.flatten()"
      ]
    },
    {
      "cell_type": "code",
      "execution_count": null,
      "metadata": {
        "id": "Buy9dqXczEsr"
      },
      "outputs": [],
      "source": [
        "# training functions\n",
        "\n",
        "@tf.function\n",
        "def grad(model,xlb,tlb,xub,tub,x0,t0,u0):\n",
        "    with tf.GradientTape(persistent=True) as tape:\n",
        "        loss_value = loss(model,xlb,tlb,xub,tub,x0,t0,u0)\n",
        "        grads = tape.gradient(loss_value,nnet.trainable_variables)\n",
        "    return loss_value, grads\n",
        "\n",
        "def loss(model,xlb,tlb,xub,tub,x0,t0,u0):\n",
        "    pred_0  = nnet(tf.concat([x0,t0],1))\n",
        "    pred_lb = nnet(tf.concat([xlb,tlb],1))\n",
        "    pred_ub = nnet(tf.concat([xub,tub],1))\n",
        "\n",
        "    # IC loss\n",
        "    mse_0 = tf.reduce_mean(tf.pow(u0-pred_0,2)) \n",
        "\n",
        "    # periodic boundary loss\n",
        "    mse_b = tf.reduce_mean(tf.pow(pred_lb-pred_ub,2))\n",
        "\n",
        "    return  mse_0+mse_b"
      ]
    },
    {
      "cell_type": "code",
      "execution_count": null,
      "metadata": {
        "id": "bTBSyWWQ79ZR"
      },
      "outputs": [],
      "source": [
        "# network architecture\n",
        "\n",
        "layer_sizes = [2]+[1]+4*[50]+[1]\n",
        "\n",
        "def my_init(shape,dtype=None):\n",
        "    w = tf.constant([1.0,-v],shape=shape)\n",
        "    return w\n",
        "    \n",
        "def neural_net(layer_sizes):\n",
        "    model = Sequential()\n",
        "    model.add(layers.InputLayer(input_shape=(layer_sizes[0],)))\n",
        "    model.add(layers.Dense(\n",
        "            layer_sizes[1],activation=None,use_bias=False,\n",
        "            kernel_initializer=my_init,trainable=False))\n",
        "    for width in layer_sizes[2:-1]:\n",
        "        model.add(layers.Dense(\n",
        "            width, activation=tf.nn.tanh,\n",
        "            kernel_initializer=\"glorot_normal\",trainable=True))\n",
        "    model.add(layers.Dense(\n",
        "            layer_sizes[-1], activation=None,\n",
        "            kernel_initializer=\"glorot_normal\",trainable=True))\n",
        "    return model"
      ]
    },
    {
      "cell_type": "code",
      "execution_count": null,
      "metadata": {
        "id": "U1q_NxfLB91C"
      },
      "outputs": [],
      "source": [
        "# output functions\n",
        "\n",
        "def plot_slices(U,U_pred,slices):\n",
        "    fig = plt.figure(figsize=(12,2),dpi=65)\n",
        "    ax = fig.add_subplot(111)\n",
        "    ax.axis('off')\n",
        "    gs1 = gridspec.GridSpec(1,len(slices))\n",
        "    gs1.update(top=1-1/3, bottom=0, left=0.1, right=0.9, wspace=0.5)\n",
        "    for gi,snap in enumerate(slices):\n",
        "        tind = int(snap*len(ut))\n",
        "        ax = plt.subplot(gs1[0,gi])\n",
        "        ax.plot(ux,U[:,tind],'b-',linewidth=2,label='Exact')       \n",
        "        ax.plot(ux,U_pred[tind,:],'r--',linewidth=2,label='Prediction')\n",
        "        ax.set_title('$t = %.2f$' % (ut[tind]),fontsize=10)\n",
        "        ax.set_xlabel('$x$')\n",
        "        ax.set_ylabel('$u(t,x)$')\n",
        "        ax.set_xlim([-0.1,L+0.1])\n",
        "        ax.set_ylim([-1.1,1.1])\n",
        "    plt.show()\n",
        "\n",
        "def results(model,loss_value,tm):\n",
        "    CINN = model(XT_flat)\n",
        "    u_pred = griddata(XT_flat,CINN[:,0],(Xm,Tm),method='cubic')\n",
        "    L1_err = np.linalg.norm(u_flat-CINN[:,-1],1)/np.linalg.norm(u_flat,1)\n",
        "    L2_err = np.linalg.norm(u_flat-CINN[:,-1],2)/np.linalg.norm(u_flat,2)\n",
        "    print('loss: %.6e' % (loss_value))\n",
        "    print('L1 error: %.6e' % (L1_err))\n",
        "    print('L2 error: %.6e' % (L2_err))\n",
        "    print('time elapsed: %.3f'% (tm))\n",
        "    plot_slices(u,u_pred,[0.1,0.5,0.9])\n",
        "    return L1_err,L2_err   "
      ]
    },
    {
      "cell_type": "code",
      "execution_count": null,
      "metadata": {
        "colab": {
          "base_uri": "https://localhost:8080/",
          "height": 1000
        },
        "id": "6f3bFQflHmoP",
        "outputId": "1d7442c9-15bb-4d1f-9bc4-87f5833a10b0"
      },
      "outputs": [
        {
          "output_type": "stream",
          "name": "stdout",
          "text": [
            "Run = 0, Iteration = 4000\n",
            "Run = 0, Iteration = 8000\n",
            "Run = 0, Iteration = 12000\n",
            "Run = 0, Iteration = 16000\n",
            "Run = 0, Iteration = 20000\n",
            "loss: 7.956017e-05\n",
            "L1 error: 5.197096e-02\n",
            "L2 error: 6.479844e-02\n",
            "time elapsed: 103.235\n"
          ]
        },
        {
          "output_type": "display_data",
          "data": {
            "text/plain": [
              "<Figure size 780x130 with 3 Axes>"
            ],
            "image/png": "[encoded data removed]"
          },
          "metadata": {
            "needs_background": "light"
          }
        },
        {
          "output_type": "stream",
          "name": "stdout",
          "text": [
            "Run = 1, Iteration = 4000\n",
            "Run = 1, Iteration = 8000\n",
            "Run = 1, Iteration = 12000\n",
            "Run = 1, Iteration = 16000\n",
            "Run = 1, Iteration = 20000\n",
            "loss: 7.906218e-05\n",
            "L1 error: 4.207190e-02\n",
            "L2 error: 4.874135e-02\n",
            "time elapsed: 100.177\n"
          ]
        },
        {
          "output_type": "display_data",
          "data": {
            "text/plain": [
              "<Figure size 780x130 with 3 Axes>"
            ],
            "image/png": "[encoded data removed]"
          },
          "metadata": {
            "needs_background": "light"
          }
        },
        {
          "output_type": "stream",
          "name": "stdout",
          "text": [
            "Run = 2, Iteration = 4000\n",
            "Run = 2, Iteration = 8000\n",
            "Run = 2, Iteration = 12000\n",
            "Run = 2, Iteration = 16000\n",
            "Run = 2, Iteration = 20000\n",
            "loss: 1.408418e-04\n",
            "L1 error: 4.435400e-02\n",
            "L2 error: 5.519758e-02\n",
            "time elapsed: 100.430\n"
          ]
        },
        {
          "output_type": "display_data",
          "data": {
            "text/plain": [
              "<Figure size 780x130 with 3 Axes>"
            ],
            "image/png": "[encoded data removed]"
          },
          "metadata": {
            "needs_background": "light"
          }
        },
        {
          "output_type": "stream",
          "name": "stdout",
          "text": [
            "Run = 3, Iteration = 4000\n",
            "Run = 3, Iteration = 8000\n",
            "Run = 3, Iteration = 12000\n",
            "Run = 3, Iteration = 16000\n",
            "Run = 3, Iteration = 20000\n",
            "loss: 6.054972e-05\n",
            "L1 error: 4.373861e-02\n",
            "L2 error: 5.388403e-02\n",
            "time elapsed: 100.003\n"
          ]
        },
        {
          "output_type": "display_data",
          "data": {
            "text/plain": [
              "<Figure size 780x130 with 3 Axes>"
            ],
            "image/png": "[encoded data removed]"
          },
          "metadata": {
            "needs_background": "light"
          }
        },
        {
          "output_type": "stream",
          "name": "stdout",
          "text": [
            "Run = 4, Iteration = 4000\n"
          ]
        }
      ],
      "source": [
        "# main loop\n",
        "\n",
        "M = 10 # number of repetitions\n",
        "N = 20000 # number of training iterations\n",
        "L1_err = np.zeros(M)\n",
        "L2_err = np.zeros(M)\n",
        "tm = np.zeros(M)\n",
        "lr = 0.001\n",
        "nnets = []\n",
        "\n",
        "r=0 #repetition counter\n",
        "#f=0 #failure counter\n",
        "while r<M:\n",
        "\n",
        "  nnet = neural_net(layer_sizes)\n",
        "  opt =  tf.keras.optimizers.Adam(learning_rate=lr,beta_1=.9,beta_2=0.99)\n",
        "\n",
        "  # data initial condition\n",
        "  N0 = 200 \n",
        "  x0 = tf.convert_to_tensor(xlo+(xhi-xlo)*np.random.uniform(size=(N0,1)),dtype=tf.float32)\n",
        "  t0 = tf.zeros(tf.shape(x0),dtype=tf.float32)\n",
        "  u0 = np.sin(x0) \n",
        "  \n",
        "  # lower boundary \n",
        "  Nb = 1000 \n",
        "  tlb = tf.convert_to_tensor(tlo+(thi-tlo)*np.random.uniform(size=(Nb,1)),dtype=tf.float32)\n",
        "  xlb = xlo*tf.ones(tf.shape(tlb),dtype=tf.float32)\n",
        "  qlb = tf.zeros(tf.shape(tlb),dtype=tf.float32)\n",
        "  # upper boundary\n",
        "  tub = tlb \n",
        "  xub = xhi*tf.ones(tf.shape(tub),dtype=tf.float32)\n",
        "  qub = tf.zeros(tf.shape(tub),dtype=tf.float32)  \n",
        "\n",
        "  for it in range(int(N/4000)):\n",
        "    start_time = time.time()\n",
        "    for its in range(4000):\n",
        "      loss_value,grads = grad(nnet,xlb,tlb,xub,tub,x0,t0,u0)\n",
        "      opt.apply_gradients(zip(grads,nnet.trainable_variables))\n",
        "    tm[r] += time.time()-start_time\n",
        "    print('Run = %d, Iteration = %d' % (r,(it+1)*4000))\n",
        "    #l1,l2 = results(nnet,loss_value,tm[r])\n",
        "\n",
        "  #if l2<0.2:\n",
        "  L1_err[r],L2_err[r] = results(nnet,loss_value,tm[r])\n",
        "  r = r + 1\n",
        "  nnets.append(nnet)\n",
        "  #else:\n",
        "  #  f = f + 1"
      ]
    },
    {
      "cell_type": "code",
      "execution_count": null,
      "metadata": {
        "id": "T58qEYLBJ__t"
      },
      "outputs": [],
      "source": [
        "print('L1 error:')\n",
        "print('mean +/- std = %.4f +/- %.4f' % (np.mean(L1_err),np.std(L1_err)))\n",
        "print('min -- median -- max = %.4f -- %.4f -- %.4f' % (np.min(L1_err),np.median(L1_err),np.max(L1_err)))\n",
        "print(L1_err)\n",
        "\n",
        "print('L2 error:')\n",
        "print('mean +/- std = %.4f +/- %.4f' % (np.mean(L2_err),np.std(L2_err)))\n",
        "print('min -- median -- max = %.4f -- %.4f -- %.4f' % (np.min(L2_err),np.median(L2_err),np.max(L2_err)))\n",
        "print(L2_err)\n",
        "\n",
        "print('time = %.4f +/- %.4f' % (np.mean(tm),np.std(tm)))"
      ]
    },
    {
      "cell_type": "code",
      "source": [
        "# Display results\n",
        "\n",
        "from google.colab import files\n",
        "import matplotlib.pyplot as plt\n",
        "import matplotlib.animation as animation\n",
        "from mpl_toolkits.axes_grid1 import make_axes_locatable\n",
        "\n",
        "def figsize(scale, nplots = 1):\n",
        "    fig_width_pt = 390.0                          # Get this from LaTeX using \\the\\textwidth\n",
        "    inches_per_pt = 1.0/72.27                       # Convert pt to inch\n",
        "    golden_mean = (np.sqrt(5.0)-1.0)/2.0            # Aesthetic ratio (you could change this)\n",
        "    fig_width = fig_width_pt*inches_per_pt*scale    # width in inches\n",
        "    fig_height = nplots*fig_width*golden_mean              # height in inches\n",
        "    fig_size = [fig_width,fig_height]\n",
        "    return fig_size\n",
        "\n",
        "fig = plt.figure(figsize=figsize(3,2),dpi=300)\n",
        "gs0 = gridspec.GridSpec(1,1)\n",
        "gs0.update(top=1-0.06, bottom=1-1/3, left=0.2, right=.9, wspace=0.25)\n",
        "ax = plt.subplot(gs0[0,0])\n",
        "im=ax.imshow(u,interpolation='nearest',cmap='seismic',extent=[0.0,T,0.0,L],origin='lower',aspect='auto')\n",
        "divider = make_axes_locatable(ax)\n",
        "cax = divider.append_axes(\"right\", size=\"5%\", pad=0.05)\n",
        "cbar=fig.colorbar(im,cax=cax)\n",
        "cbar.ax.tick_params(labelsize=14)\n",
        "ax.tick_params(axis='both',which='major',labelsize=18)\n",
        "ax.set_xlabel('$t$',fontsize=20)\n",
        "ax.set_ylabel('$x$',fontsize=20)\n",
        "ax.set_title('Exact',fontsize=20)\n",
        "#fig.savefig('Exact_periodic_v'+str(int(v))+'.png',bbox_inches=\"tight\",facecolor=\"white\")\n",
        "\n",
        "CINN = nnets[np.argmax(L2_err)](XT_flat)\n",
        "fig = plt.figure(figsize=figsize(3,2),dpi=300)\n",
        "gs0 = gridspec.GridSpec(1,1)\n",
        "gs0.update(top=1-0.06, bottom=1-1/3, left=0.2, right=.9, wspace=0.25)\n",
        "ax = plt.subplot(gs0[0,0])\n",
        "im=ax.imshow(np.reshape(CINN,(uxn,utn)).T,interpolation='nearest',cmap='seismic',extent=[0.0,T,0.0,L],origin='lower',aspect='auto')\n",
        "divider = make_axes_locatable(ax)\n",
        "cax = divider.append_axes(\"right\", size=\"5%\", pad=0.05)\n",
        "cbar=fig.colorbar(im,cax=cax)\n",
        "cbar.ax.tick_params(labelsize=14)\n",
        "ax.tick_params(axis='both',which='major',labelsize=18)\n",
        "ax.set_xlabel('$t$',fontsize=20)\n",
        "ax.set_ylabel('$x$',fontsize=20)\n",
        "ax.set_title('CINN',fontsize=20)\n",
        "fig.savefig('CINN_periodic_v'+str(int(v))+'.png',bbox_inches=\"tight\",facecolor=\"white\")\n",
        "\n",
        "#files.download('Exact_periodic_v'+str(int(v))+'.png')\n",
        "files.download('CINN_periodic_v'+str(int(v))+'.png')"
      ],
      "metadata": {
        "id": "PbFz-7g2u4WD"
      },
      "execution_count": null,
      "outputs": []
    },
    {
      "cell_type": "code",
      "source": [
        "f"
      ],
      "metadata": {
        "id": "nSS-bS7PBStT"
      },
      "execution_count": null,
      "outputs": []
    }
  ],
  "metadata": {
    "accelerator": "GPU",
    "colab": {
      "machine_shape": "hm",
      "provenance": [],
      "include_colab_link": true
    },
    "kernelspec": {
      "display_name": "Python 3",
      "language": "python",
      "name": "python3"
    },
    "language_info": {
      "codemirror_mode": {
        "name": "ipython",
        "version": 3
      },
      "file_extension": ".py",
      "mimetype": "text/x-python",
      "name": "python",
      "nbconvert_exporter": "python",
      "pygments_lexer": "ipython3",
      "version": "3.6.4"
    }
  },
  "nbformat": 4,
  "nbformat_minor": 0
}